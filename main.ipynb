{
 "cells": [
  {
   "cell_type": "code",
   "execution_count": 7,
   "metadata": {},
   "outputs": [],
   "source": [
    "import pandas as pd\n",
    "import numpy as np\n",
    "import fasttext\n",
    "import os"
   ]
  },
  {
   "cell_type": "code",
   "execution_count": 8,
   "metadata": {},
   "outputs": [],
   "source": [
    "# Import all the functions inf the functions.ipynb file\n",
    "%run functions.ipynb"
   ]
  },
  {
   "cell_type": "markdown",
   "metadata": {},
   "source": [
    "## Basic Execution\n",
    "This first section allows you to choose the parameters for the experiment, train a text classifier and a random forest and output a prediction for a testing dataset. You can view the performance and the exact predictions made."
   ]
  },
  {
   "cell_type": "markdown",
   "metadata": {},
   "source": [
    "Step 1: Choose the parameters of your experiment. This is the only block you need to modify."
   ]
  },
  {
   "cell_type": "code",
   "execution_count": 15,
   "metadata": {},
   "outputs": [],
   "source": [
    "# Main metadata file. File from which the data and labels will be read\n",
    "metadata_file = 'Datasets/public_dataset.csv'\n",
    "labels_file = 'Datasets/labels_public_dataset.csv'\n",
    "\n",
    "# Set specify_test_data = 0 to perform a training/test split on the metadata_file and labels_file\n",
    "# Set specify_test_data = 1 to use the metadata_file and labels_file as training data and metadata_file_test and labels_file_test as test data\n",
    "specify_test_data = 0\n",
    "\n",
    "# ONLY NECESSARY IF specify_test_data = 1:\n",
    "metadata_file_test = 'Datasets/public_dataset.csv'\n",
    "labels_file_test = 'Datasets/labels_public_dataset.csv'\n",
    "\n",
    "# ONLY NECESSARY IF specify_test_data = 0: How to perform the training/test split\n",
    "# split_method = 0: by specified percentage. The size of the training data will be len(data)*perc_training\n",
    "# split_method = 1: by number of cases. The size of the training data will be num_trainingsamples\n",
    "split_method = 1\n",
    "perc_training = 0.9\n",
    "num_trainingsamples = 800\n",
    "\n",
    "# Threshold from which a prediction will be considered a predicted positive\n",
    "# e.g. if decision_threshold = 0.3, all predictions 0.3 or higher will be assigned the '1' label (personal data)\n",
    "# This is only used to calculate the precision, recall and f1 scores\n",
    "decision_threshold = 0.5\n",
    "\n",
    "# -----------------------------------------------------\n",
    "# Choose which features you want to use to train the model. Comment out the lines you don't want\n",
    "# The model in the paper includes all of these\n",
    "columns_to_use = [\n",
    "    'NUM_ROWS',\n",
    "    'AVG_ROW_LEN',\n",
    "    'AVG_COL_LEN',\n",
    "    'distinct_ratio',\n",
    "    'perc_null',\n",
    "    'is_id',\n",
    "    'is_number',\n",
    "    'is_character',\n",
    "    'is_date',\n",
    "    'is_large_blob',\n",
    "    'embedding_pred' #This is the prediction made by the text classifier\n",
    "]\n",
    "\n",
    "# -----------------------------------------------------\n",
    "# Choose which type of model you want to train. The default one, used to obtain the results in the paper, is 1 (Random Forest)\n",
    "\n",
    "model_type = 1\n",
    "# 1 - Random Forest\n",
    "# 2 - Logistic Regression\n",
    "# 3 - Gaussian Naive Bayes\n",
    "# 4 - Ada Boost\n",
    "# 5 - Gradient Boosting\n",
    "# 6 - KNN classifier\n",
    "\n",
    "# -----------------------------------------------------\n",
    "# Choose the name of the file where the results will be output\n",
    "results_file = 'Results/results.csv'"
   ]
  },
  {
   "cell_type": "markdown",
   "metadata": {},
   "source": [
    "Step 2: Read the data, create a train/test split and enrich it"
   ]
  },
  {
   "cell_type": "code",
   "execution_count": 16,
   "metadata": {},
   "outputs": [],
   "source": [
    "data = pd.read_csv(metadata_file)\n",
    "labels = pd.read_csv(labels_file)\n",
    "\n",
    "#OPTIONAL, but used for the results in the paper:\n",
    "data = data[data['NUM_DISTINCT'] > 0] #We'll only analyze columns for which there were some entries\n",
    "labels = labels[labels.index.isin(data.index)] #Make sure the data and labels match\n",
    "\n",
    "if(specify_test_data == 0):\n",
    "    data_train, data_test, labels_train, labels_test, msk = train_test_split(data, labels, split_method, perc_training, num_trainingsamples)\n",
    "elif(specify_test_data == 1):\n",
    "    data_train = data\n",
    "    labels_train = labels\n",
    "    data_test = pd.read_csv(metadata_file_test)\n",
    "    labels_test = pd.read_csv(labels_file_test)\n",
    "    data_test = data_test[data_test['NUM_DISTINCT'] > 0]\n",
    "    labels_test = labels_test[labels_test.index.isin(data_test.index)]\n",
    "\n",
    "data_train = enrich(data_train)\n",
    "data_test = enrich(data_test)"
   ]
  },
  {
   "cell_type": "markdown",
   "metadata": {},
   "source": [
    "Step 3: Train an text classifier and add a column to the dataframes with its prediction"
   ]
  },
  {
   "cell_type": "code",
   "execution_count": 17,
   "metadata": {},
   "outputs": [],
   "source": [
    "if('embedding_pred' in columns_to_use):\n",
    "    embed_model = train_embedding_model(labels_train,'COLUMN_NAME')\n",
    "    data_train = add_embedding_to_df(data_train,embed_model,'COLUMN_NAME')\n",
    "    data_test = add_embedding_to_df(data_test,embed_model,'COLUMN_NAME')"
   ]
  },
  {
   "cell_type": "markdown",
   "metadata": {},
   "source": [
    "Step 4: Remove the table and column names, and train the machine learning model. Look at the \"Results\" folder for more details."
   ]
  },
  {
   "cell_type": "code",
   "execution_count": 18,
   "metadata": {},
   "outputs": [],
   "source": [
    "test_columns = labels_test[['TABLE_NAME','COLUMN_NAME']]\n",
    "\n",
    "data_train = data_train[columns_to_use]\n",
    "data_test = data_test[columns_to_use]\n",
    "labels_train = labels_train.drop(['TABLE_NAME','COLUMN_NAME'], axis=1)\n",
    "labels_test = labels_test.drop(['TABLE_NAME','COLUMN_NAME'], axis=1)"
   ]
  },
  {
   "cell_type": "code",
   "execution_count": 19,
   "metadata": {
    "scrolled": true
   },
   "outputs": [
    {
     "name": "stdout",
     "output_type": "stream",
     "text": [
      "ROC AUC: 0.817772952853598\n"
     ]
    }
   ],
   "source": [
    "ml_model = train_model(data_train, labels_train, model_type, 100)\n",
    "predictions = predict(ml_model, data_test)\n",
    "importances = calc_importances_df(ml_model,data_train)\n",
    "\n",
    "precision,recall,f1,auc = evaluate_prediction(test_columns,predictions,labels_test, decision_threshold, results_file)\n",
    "print('ROC AUC:', auc)"
   ]
  },
  {
   "cell_type": "markdown",
   "metadata": {},
   "source": [
    "## Advanced options\n",
    "In this section, steps 2, 3 and 4 have been merged into a single function called full_run (see functions.ipynb). It can be used to perform a sweep in order to assess the effect of a certain variable in the performance.\n",
    "\n",
    "Even for the same sample size, different samples can yield different performances. In order to obtain a more reliable metric, the function samples num_tests times and trains a model each time, returning the mean precision, recall, f1 and ROC AUC."
   ]
  },
  {
   "cell_type": "markdown",
   "metadata": {},
   "source": [
    "In this example, a sweep is performed similar to those done in the paper. Models are trained with different training set sizes, and the results are exported to a .csv\n",
    "num_tests was 100 in the paper. For a faster execution, reduce this number:"
   ]
  },
  {
   "cell_type": "code",
   "execution_count": null,
   "metadata": {},
   "outputs": [],
   "source": [
    "results_df = pd.DataFrame(columns =  ['Training Samples', 'Precision', 'Recall', 'F1', 'AUC'])\n",
    "\n",
    "num_tests = 10\n",
    "split_method = 1\n",
    "\n",
    "for num_trainingsamples in [100,200,300,400,500,600,700,800,900]:\n",
    "    precision, recall, f1, auc = full_run(specify_test_data, split_method, perc_training, num_trainingsamples, columns_to_use, model_type, results_file, num_tests)\n",
    "    results_df.loc[len(results_df)] = [num_trainingsamples, precision, recall, f1, auc]\n",
    "\n",
    "results_df.to_csv('Results/sweep_training_samples.csv')"
   ]
  },
  {
   "cell_type": "markdown",
   "metadata": {},
   "source": [
    "This example is similar to the previous one, but the training set size is determined as a percentage of the total set"
   ]
  },
  {
   "cell_type": "code",
   "execution_count": 4,
   "metadata": {},
   "outputs": [],
   "source": [
    "results_df = pd.DataFrame(columns =  ['Percentage Training Set', 'Precision', 'Recall', 'F1', 'AUC'])\n",
    "\n",
    "num_tests = 10\n",
    "split_method = 0\n",
    "\n",
    "for perc_training in [0.1,0.2,0.3,0.4,0.5,0.6,0.7,0.8,0.9]:\n",
    "    precision, recall, f1, auc = full_run(specify_test_data, split_method, perc_training, num_trainingsamples, columns_to_use, model_type, results_file, num_tests)\n",
    "    results_df.loc[len(results_df)] = [perc_training, precision, recall, f1, auc]\n",
    "\n",
    "results_df.to_csv('Results/sweep_percentage_training_samples.csv')"
   ]
  },
  {
   "cell_type": "markdown",
   "metadata": {},
   "source": [
    "In this third example, the training set size is fixed, and different machine learning models from the scikit-learn package are tested:"
   ]
  },
  {
   "cell_type": "code",
   "execution_count": 14,
   "metadata": {},
   "outputs": [],
   "source": [
    "results_df = pd.DataFrame(columns =  ['Model Type', 'Precision', 'Recall', 'F1', 'AUC'])\n",
    "\n",
    "num_tests = 10\n",
    "split_method = 1\n",
    "num_trainingsamples = 800\n",
    "\n",
    "for model_type in [1,2,3,4,5,6]:\n",
    "    precision, recall, f1, auc = full_run(specify_test_data, split_method, perc_training, num_trainingsamples, columns_to_use, model_type, results_file, num_tests)\n",
    "    results_df.loc[len(results_df)] = [model_type, precision, recall, f1, auc]\n",
    "\n",
    "results_df.to_csv('Results/sweep_percentage_training_samples.csv')"
   ]
  }
 ],
 "metadata": {
  "kernelspec": {
   "display_name": "Python 3",
   "language": "python",
   "name": "python3"
  },
  "language_info": {
   "codemirror_mode": {
    "name": "ipython",
    "version": 3
   },
   "file_extension": ".py",
   "mimetype": "text/x-python",
   "name": "python",
   "nbconvert_exporter": "python",
   "pygments_lexer": "ipython3",
   "version": "3.7.4"
  }
 },
 "nbformat": 4,
 "nbformat_minor": 2
}
